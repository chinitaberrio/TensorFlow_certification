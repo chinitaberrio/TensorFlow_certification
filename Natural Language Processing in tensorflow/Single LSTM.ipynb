{
  "nbformat": 4,
  "nbformat_minor": 0,
  "metadata": {
    "accelerator": "GPU",
    "colab": {
      "name": "Course 3 - Week 3 - Lesson 2.ipynb",
      "provenance": [],
      "collapsed_sections": [],
      "toc_visible": true
    },
    "kernelspec": {
      "display_name": "Python 3",
      "language": "python",
      "name": "python3"
    },
    "language_info": {
      "codemirror_mode": {
        "name": "ipython",
        "version": 3
      },
      "file_extension": ".py",
      "mimetype": "text/x-python",
      "name": "python",
      "nbconvert_exporter": "python",
      "pygments_lexer": "ipython3",
      "version": "3.7.6"
    }
  },
  "cells": [
    {
      "cell_type": "code",
      "metadata": {
        "id": "zX4Kg8DUTKWO"
      },
      "source": [
        "#@title Licensed under the Apache License, Version 2.0 (the \"License\");\n",
        "# you may not use this file except in compliance with the License.\n",
        "# You may obtain a copy of the License at\n",
        "#\n",
        "# https://www.apache.org/licenses/LICENSE-2.0\n",
        "#\n",
        "# Unless required by applicable law or agreed to in writing, software\n",
        "# distributed under the License is distributed on an \"AS IS\" BASIS,\n",
        "# WITHOUT WARRANTIES OR CONDITIONS OF ANY KIND, either express or implied.\n",
        "# See the License for the specific language governing permissions and\n",
        "# limitations under the License."
      ],
      "execution_count": null,
      "outputs": []
    },
    {
      "cell_type": "markdown",
      "metadata": {
        "id": "ttHpdgRiO1ti"
      },
      "source": [
        "<a href=\"https://colab.research.google.com/github/lmoroney/dlaicourse/blob/master/TensorFlow%20In%20Practice/Course%203%20-%20NLP/Course%203%20-%20Week%203%20-%20Lesson%202.ipynb\" target=\"_parent\"><img src=\"https://colab.research.google.com/assets/colab-badge.svg\" alt=\"Open In Colab\"/></a>"
      ]
    },
    {
      "cell_type": "code",
      "metadata": {
        "colab": {
          "base_uri": "https://localhost:8080/"
        },
        "id": "jGwXGIXvFhXW",
        "outputId": "c8966047-3cbc-4b8b-ebcd-eba1f54620c4"
      },
      "source": [
        "import numpy as np\n",
        "\n",
        "import json\n",
        "import tensorflow as tf\n",
        "\n",
        "from tensorflow.keras.preprocessing.text import Tokenizer\n",
        "from tensorflow.keras.preprocessing.sequence import pad_sequences\n",
        "\n",
        "!wget --no-check-certificate \\\n",
        "    https://storage.googleapis.com/laurencemoroney-blog.appspot.com/sarcasm.json \\\n",
        "    -O /tmp/sarcasm.json\n",
        "\n",
        "vocab_size = 1000\n",
        "embedding_dim = 16\n",
        "max_length = 120\n",
        "trunc_type='post'\n",
        "padding_type='post'\n",
        "oov_tok = \"<OOV>\"\n",
        "training_size = 20000\n",
        "\n",
        "\n",
        "with open(\"/tmp/sarcasm.json\", 'r') as f:\n",
        "    datastore = json.load(f)\n",
        "\n",
        "\n",
        "sentences = []\n",
        "labels = []\n",
        "urls = []\n",
        "for item in datastore:\n",
        "    sentences.append(item['headline'])\n",
        "    labels.append(item['is_sarcastic'])\n",
        "\n",
        "training_sentences = sentences[0:training_size]\n",
        "testing_sentences = sentences[training_size:]\n",
        "training_labels = labels[0:training_size]\n",
        "testing_labels = labels[training_size:]\n",
        "\n",
        "tokenizer = Tokenizer(num_words=vocab_size, oov_token=oov_tok)\n",
        "tokenizer.fit_on_texts(training_sentences)\n",
        "\n",
        "word_index = tokenizer.word_index\n",
        "\n",
        "training_sequences = tokenizer.texts_to_sequences(training_sentences)\n",
        "training_padded = pad_sequences(training_sequences, maxlen=max_length, padding=padding_type, truncating=trunc_type)\n",
        "\n",
        "testing_sequences = tokenizer.texts_to_sequences(testing_sentences)\n",
        "testing_padded = pad_sequences(testing_sequences, maxlen=max_length, padding=padding_type, truncating=trunc_type)\n",
        "\n",
        "model = tf.keras.Sequential([\n",
        "    tf.keras.layers.Embedding(vocab_size, embedding_dim, input_length=max_length),\n",
        "    tf.keras.layers.Bidirectional(tf.keras.layers.LSTM(32)),\n",
        "    tf.keras.layers.Dense(24, activation='relu'),\n",
        "    tf.keras.layers.Dense(1, activation='sigmoid')\n",
        "])\n",
        "model.compile(loss='binary_crossentropy',optimizer='adam',metrics=['accuracy'])\n",
        "model.summary()\n",
        "\n",
        "num_epochs = 50\n",
        "training_padded = np.array(training_padded)\n",
        "training_labels = np.array(training_labels)\n",
        "testing_padded = np.array(testing_padded)\n",
        "testing_labels = np.array(testing_labels)\n",
        "history = model.fit(training_padded, training_labels, epochs=num_epochs, validation_data=(testing_padded, testing_labels), verbose=1)\n"
      ],
      "execution_count": 1,
      "outputs": [
        {
          "output_type": "stream",
          "text": [
            "--2021-03-17 22:14:43--  https://storage.googleapis.com/laurencemoroney-blog.appspot.com/sarcasm.json\n",
            "Resolving storage.googleapis.com (storage.googleapis.com)... 74.125.142.128, 74.125.195.128, 74.125.20.128, ...\n",
            "Connecting to storage.googleapis.com (storage.googleapis.com)|74.125.142.128|:443... connected.\n",
            "HTTP request sent, awaiting response... 200 OK\n",
            "Length: 5643545 (5.4M) [application/json]\n",
            "Saving to: ‘/tmp/sarcasm.json’\n",
            "\n",
            "\r/tmp/sarcasm.json     0%[                    ]       0  --.-KB/s               \r/tmp/sarcasm.json   100%[===================>]   5.38M  --.-KB/s    in 0.03s   \n",
            "\n",
            "2021-03-17 22:14:43 (189 MB/s) - ‘/tmp/sarcasm.json’ saved [5643545/5643545]\n",
            "\n",
            "Model: \"sequential\"\n",
            "_________________________________________________________________\n",
            "Layer (type)                 Output Shape              Param #   \n",
            "=================================================================\n",
            "embedding (Embedding)        (None, 120, 16)           16000     \n",
            "_________________________________________________________________\n",
            "bidirectional (Bidirectional (None, 64)                12544     \n",
            "_________________________________________________________________\n",
            "dense (Dense)                (None, 24)                1560      \n",
            "_________________________________________________________________\n",
            "dense_1 (Dense)              (None, 1)                 25        \n",
            "=================================================================\n",
            "Total params: 30,129\n",
            "Trainable params: 30,129\n",
            "Non-trainable params: 0\n",
            "_________________________________________________________________\n",
            "Epoch 1/50\n",
            "625/625 [==============================] - 42s 14ms/step - loss: 0.5598 - accuracy: 0.6786 - val_loss: 0.3916 - val_accuracy: 0.8180\n",
            "Epoch 2/50\n",
            "625/625 [==============================] - 7s 12ms/step - loss: 0.3546 - accuracy: 0.8392 - val_loss: 0.3857 - val_accuracy: 0.8188\n",
            "Epoch 3/50\n",
            "625/625 [==============================] - 7s 12ms/step - loss: 0.3459 - accuracy: 0.8391 - val_loss: 0.3778 - val_accuracy: 0.8275\n",
            "Epoch 4/50\n",
            "625/625 [==============================] - 7s 12ms/step - loss: 0.3271 - accuracy: 0.8525 - val_loss: 0.3705 - val_accuracy: 0.8320\n",
            "Epoch 5/50\n",
            "625/625 [==============================] - 7s 12ms/step - loss: 0.3107 - accuracy: 0.8628 - val_loss: 0.3836 - val_accuracy: 0.8222\n",
            "Epoch 6/50\n",
            "625/625 [==============================] - 7s 12ms/step - loss: 0.2945 - accuracy: 0.8687 - val_loss: 0.3739 - val_accuracy: 0.8329\n",
            "Epoch 7/50\n",
            "625/625 [==============================] - 7s 12ms/step - loss: 0.2874 - accuracy: 0.8749 - val_loss: 0.3731 - val_accuracy: 0.8337\n",
            "Epoch 8/50\n",
            "625/625 [==============================] - 7s 12ms/step - loss: 0.2817 - accuracy: 0.8776 - val_loss: 0.3772 - val_accuracy: 0.8299\n",
            "Epoch 9/50\n",
            "625/625 [==============================] - 7s 12ms/step - loss: 0.2705 - accuracy: 0.8823 - val_loss: 0.3815 - val_accuracy: 0.8308\n",
            "Epoch 10/50\n",
            "625/625 [==============================] - 7s 12ms/step - loss: 0.2622 - accuracy: 0.8834 - val_loss: 0.3905 - val_accuracy: 0.8305\n",
            "Epoch 11/50\n",
            "625/625 [==============================] - 7s 12ms/step - loss: 0.2557 - accuracy: 0.8915 - val_loss: 0.4038 - val_accuracy: 0.8301\n",
            "Epoch 12/50\n",
            "625/625 [==============================] - 7s 12ms/step - loss: 0.2454 - accuracy: 0.8927 - val_loss: 0.4209 - val_accuracy: 0.8222\n",
            "Epoch 13/50\n",
            "625/625 [==============================] - 7s 12ms/step - loss: 0.2307 - accuracy: 0.9026 - val_loss: 0.4095 - val_accuracy: 0.8234\n",
            "Epoch 14/50\n",
            "625/625 [==============================] - 7s 12ms/step - loss: 0.2275 - accuracy: 0.9055 - val_loss: 0.4386 - val_accuracy: 0.8219\n",
            "Epoch 15/50\n",
            "625/625 [==============================] - 7s 12ms/step - loss: 0.2165 - accuracy: 0.9075 - val_loss: 0.4558 - val_accuracy: 0.8192\n",
            "Epoch 16/50\n",
            "625/625 [==============================] - 7s 12ms/step - loss: 0.2118 - accuracy: 0.9113 - val_loss: 0.4725 - val_accuracy: 0.8219\n",
            "Epoch 17/50\n",
            "625/625 [==============================] - 7s 12ms/step - loss: 0.2032 - accuracy: 0.9137 - val_loss: 0.4586 - val_accuracy: 0.8243\n",
            "Epoch 18/50\n",
            "625/625 [==============================] - 7s 12ms/step - loss: 0.1904 - accuracy: 0.9215 - val_loss: 0.4985 - val_accuracy: 0.8235\n",
            "Epoch 19/50\n",
            "625/625 [==============================] - 7s 12ms/step - loss: 0.1876 - accuracy: 0.9241 - val_loss: 0.5068 - val_accuracy: 0.8189\n",
            "Epoch 20/50\n",
            "625/625 [==============================] - 7s 12ms/step - loss: 0.1787 - accuracy: 0.9265 - val_loss: 0.5379 - val_accuracy: 0.8147\n",
            "Epoch 21/50\n",
            "625/625 [==============================] - 7s 12ms/step - loss: 0.1757 - accuracy: 0.9242 - val_loss: 0.5624 - val_accuracy: 0.8129\n",
            "Epoch 22/50\n",
            "625/625 [==============================] - 7s 12ms/step - loss: 0.1645 - accuracy: 0.9300 - val_loss: 0.5894 - val_accuracy: 0.8161\n",
            "Epoch 23/50\n",
            "625/625 [==============================] - 7s 12ms/step - loss: 0.1653 - accuracy: 0.9308 - val_loss: 0.6478 - val_accuracy: 0.8113\n",
            "Epoch 24/50\n",
            "625/625 [==============================] - 7s 12ms/step - loss: 0.1565 - accuracy: 0.9359 - val_loss: 0.6389 - val_accuracy: 0.8120\n",
            "Epoch 25/50\n",
            "625/625 [==============================] - 7s 12ms/step - loss: 0.1430 - accuracy: 0.9424 - val_loss: 0.7614 - val_accuracy: 0.8089\n",
            "Epoch 26/50\n",
            "625/625 [==============================] - 7s 12ms/step - loss: 0.1384 - accuracy: 0.9427 - val_loss: 0.8143 - val_accuracy: 0.8065\n",
            "Epoch 27/50\n",
            "625/625 [==============================] - 7s 12ms/step - loss: 0.1320 - accuracy: 0.9462 - val_loss: 0.8085 - val_accuracy: 0.8027\n",
            "Epoch 28/50\n",
            "625/625 [==============================] - 7s 12ms/step - loss: 0.1205 - accuracy: 0.9504 - val_loss: 0.8168 - val_accuracy: 0.7994\n",
            "Epoch 29/50\n",
            "625/625 [==============================] - 7s 12ms/step - loss: 0.1138 - accuracy: 0.9527 - val_loss: 0.9197 - val_accuracy: 0.8059\n",
            "Epoch 30/50\n",
            "625/625 [==============================] - 7s 12ms/step - loss: 0.1119 - accuracy: 0.9554 - val_loss: 0.9065 - val_accuracy: 0.8065\n",
            "Epoch 31/50\n",
            "625/625 [==============================] - 7s 12ms/step - loss: 0.1036 - accuracy: 0.9581 - val_loss: 1.0063 - val_accuracy: 0.8092\n",
            "Epoch 32/50\n",
            "625/625 [==============================] - 7s 12ms/step - loss: 0.0972 - accuracy: 0.9619 - val_loss: 0.9366 - val_accuracy: 0.8073\n",
            "Epoch 33/50\n",
            "625/625 [==============================] - 7s 12ms/step - loss: 0.1015 - accuracy: 0.9600 - val_loss: 1.0624 - val_accuracy: 0.7958\n",
            "Epoch 34/50\n",
            "625/625 [==============================] - 7s 12ms/step - loss: 0.0903 - accuracy: 0.9626 - val_loss: 1.1409 - val_accuracy: 0.8006\n",
            "Epoch 35/50\n",
            "625/625 [==============================] - 7s 12ms/step - loss: 0.0893 - accuracy: 0.9621 - val_loss: 1.1839 - val_accuracy: 0.8044\n",
            "Epoch 36/50\n",
            "625/625 [==============================] - 7s 12ms/step - loss: 0.0837 - accuracy: 0.9653 - val_loss: 1.1819 - val_accuracy: 0.8037\n",
            "Epoch 37/50\n",
            "625/625 [==============================] - 7s 12ms/step - loss: 0.0790 - accuracy: 0.9671 - val_loss: 1.2546 - val_accuracy: 0.7958\n",
            "Epoch 38/50\n",
            "625/625 [==============================] - 7s 12ms/step - loss: 0.0797 - accuracy: 0.9656 - val_loss: 1.2844 - val_accuracy: 0.7933\n",
            "Epoch 39/50\n",
            "625/625 [==============================] - 7s 12ms/step - loss: 0.0736 - accuracy: 0.9683 - val_loss: 1.3428 - val_accuracy: 0.7958\n",
            "Epoch 40/50\n",
            "625/625 [==============================] - 7s 12ms/step - loss: 0.0688 - accuracy: 0.9700 - val_loss: 1.4823 - val_accuracy: 0.7986\n",
            "Epoch 41/50\n",
            "625/625 [==============================] - 7s 12ms/step - loss: 0.0709 - accuracy: 0.9693 - val_loss: 1.5459 - val_accuracy: 0.8038\n",
            "Epoch 42/50\n",
            "625/625 [==============================] - 7s 12ms/step - loss: 0.0654 - accuracy: 0.9716 - val_loss: 1.5200 - val_accuracy: 0.7951\n",
            "Epoch 43/50\n",
            "625/625 [==============================] - 8s 12ms/step - loss: 0.0640 - accuracy: 0.9714 - val_loss: 1.4784 - val_accuracy: 0.7958\n",
            "Epoch 44/50\n",
            "625/625 [==============================] - 7s 12ms/step - loss: 0.0644 - accuracy: 0.9709 - val_loss: 1.5499 - val_accuracy: 0.7983\n",
            "Epoch 45/50\n",
            "625/625 [==============================] - 7s 12ms/step - loss: 0.0606 - accuracy: 0.9738 - val_loss: 1.6547 - val_accuracy: 0.8013\n",
            "Epoch 46/50\n",
            "625/625 [==============================] - 7s 12ms/step - loss: 0.0575 - accuracy: 0.9745 - val_loss: 1.8547 - val_accuracy: 0.8016\n",
            "Epoch 47/50\n",
            "625/625 [==============================] - 7s 12ms/step - loss: 0.0598 - accuracy: 0.9745 - val_loss: 1.8096 - val_accuracy: 0.7994\n",
            "Epoch 48/50\n",
            "625/625 [==============================] - 7s 12ms/step - loss: 0.0591 - accuracy: 0.9740 - val_loss: 1.8227 - val_accuracy: 0.8030\n",
            "Epoch 49/50\n",
            "625/625 [==============================] - 7s 12ms/step - loss: 0.0528 - accuracy: 0.9753 - val_loss: 1.7823 - val_accuracy: 0.7928\n",
            "Epoch 50/50\n",
            "625/625 [==============================] - 7s 12ms/step - loss: 0.0506 - accuracy: 0.9771 - val_loss: 1.8216 - val_accuracy: 0.8031\n"
          ],
          "name": "stdout"
        }
      ]
    },
    {
      "cell_type": "code",
      "metadata": {
        "colab": {
          "base_uri": "https://localhost:8080/",
          "height": 541
        },
        "id": "g9DC6dmLF8DC",
        "outputId": "2c4585b7-6707-42b0-c156-33f0797bc9fa"
      },
      "source": [
        "import matplotlib.pyplot as plt\n",
        "\n",
        "\n",
        "def plot_graphs(history, string):\n",
        "  plt.plot(history.history[string])\n",
        "  plt.plot(history.history['val_'+string])\n",
        "  plt.xlabel(\"Epochs\")\n",
        "  plt.ylabel(string)\n",
        "  plt.legend([string, 'val_'+string])\n",
        "  plt.show()\n",
        "\n",
        "plot_graphs(history, 'accuracy')\n",
        "plot_graphs(history, 'loss')"
      ],
      "execution_count": 2,
      "outputs": [
        {
          "output_type": "display_data",
          "data": {
            "image/png": "[encoded data removed]",
            "text/plain": [
              "<Figure size 432x288 with 1 Axes>"
            ]
          },
          "metadata": {
            "tags": [],
            "needs_background": "light"
          }
        },
        {
          "output_type": "display_data",
          "data": {
            "image/png": "[encoded data removed]",
            "text/plain": [
              "<Figure size 432x288 with 1 Axes>"
            ]
          },
          "metadata": {
            "tags": [],
            "needs_background": "light"
          }
        }
      ]
    },
    {
      "cell_type": "code",
      "metadata": {
        "id": "7ZEZIUppGhdi"
      },
      "source": [
        "model.save(\"test.h5\")"
      ],
      "execution_count": 3,
      "outputs": []
    }
  ]
}