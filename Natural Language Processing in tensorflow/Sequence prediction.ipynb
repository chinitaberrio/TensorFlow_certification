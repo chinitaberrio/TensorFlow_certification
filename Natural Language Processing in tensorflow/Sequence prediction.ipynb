{
 "cells": [
  {
   "cell_type": "code",
   "execution_count": 1,
   "id": "junior-reviewer",
   "metadata": {},
   "outputs": [],
   "source": [
    "import tensorflow as tf\n",
    "from tensorflow.keras.preprocessing.text import Tokenizer\n",
    "from tensorflow.keras.layers import Embedding, LSTM, Dense, Bidirectional\n",
    "from tensorflow.keras.preprocessing.sequence import pad_sequences\n",
    "from tensorflow.keras.models import Sequential\n",
    "from tensorflow.keras.optimizers import Adam"
   ]
  },
  {
   "cell_type": "code",
   "execution_count": 2,
   "id": "determined-religion",
   "metadata": {},
   "outputs": [],
   "source": [
    "data = \"In the town of Athy one Jeremy Lanigan \\n battered away til he hadnt a pound. \\nHis father died and made .. \"\n",
    "corpus = data.lower().split(\"\\n\")"
   ]
  },
  {
   "cell_type": "code",
   "execution_count": 3,
   "id": "advanced-mattress",
   "metadata": {},
   "outputs": [
    {
     "name": "stdout",
     "output_type": "stream",
     "text": [
      "{'in': 1, 'the': 2, 'town': 3, 'of': 4, 'athy': 5, 'one': 6, 'jeremy': 7, 'lanigan': 8, 'battered': 9, 'away': 10, 'til': 11, 'he': 12, 'hadnt': 13, 'a': 14, 'pound': 15, 'his': 16, 'father': 17, 'died': 18, 'and': 19, 'made': 20}\n",
      "21\n"
     ]
    }
   ],
   "source": [
    "tokenizer = Tokenizer()\n",
    "\n",
    "tokenizer.fit_on_texts(corpus)\n",
    "total_words = len(tokenizer.word_index)+1\n",
    "\n",
    "print(tokenizer.word_index)\n",
    "print(total_words) #unique words"
   ]
  },
  {
   "cell_type": "code",
   "execution_count": 6,
   "id": "fewer-milton",
   "metadata": {},
   "outputs": [],
   "source": [
    "import numpy as np\n",
    "\n",
    "#Turn the corpus into training data\n",
    "input_sequences =[]\n",
    "for line in corpus:\n",
    "    token_list = tokenizer.texts_to_sequences([line])[0]\n",
    "    for i in range(1, len(token_list)):\n",
    "        n_gram_sequence = token_list[:i+1]\n",
    "        input_sequences.append(n_gram_sequence)\n",
    "        \n",
    "#Longest sequence in the corpus\n",
    "max_sequence_len = max([len(x) for x in input_sequences])\n",
    "\n",
    "#Padded input sequences\n",
    "input_sequences = np.array(pad_sequences(input_sequences, maxlen=max_sequence_len, padding ='pre'))\n",
    "\n",
    "#Split sequences into x and y\n",
    "xs = input_sequences[:,:-1]\n",
    "labels = input_sequences[:,-1]\n",
    "\n",
    "#One hot encoding the labels\n",
    "ys = tf.keras.utils.to_categorical(labels, num_classes=total_words)\n",
    "    "
   ]
  },
  {
   "cell_type": "code",
   "execution_count": 14,
   "id": "circular-international",
   "metadata": {},
   "outputs": [
    {
     "name": "stdout",
     "output_type": "stream",
     "text": [
      "Epoch 1/50\n",
      "1/1 [==============================] - 5s 5s/step - loss: 3.0449 - acc: 0.0588\n",
      "Epoch 2/50\n",
      "1/1 [==============================] - 0s 23ms/step - loss: 3.0404 - acc: 0.0588\n",
      "Epoch 3/50\n",
      "1/1 [==============================] - 0s 24ms/step - loss: 3.0359 - acc: 0.0588\n",
      "Epoch 4/50\n",
      "1/1 [==============================] - 0s 24ms/step - loss: 3.0314 - acc: 0.1176\n",
      "Epoch 5/50\n",
      "1/1 [==============================] - 0s 32ms/step - loss: 3.0268 - acc: 0.1176\n",
      "Epoch 6/50\n",
      "1/1 [==============================] - 0s 53ms/step - loss: 3.0222 - acc: 0.1176\n",
      "Epoch 7/50\n",
      "1/1 [==============================] - 0s 49ms/step - loss: 3.0174 - acc: 0.1176\n",
      "Epoch 8/50\n",
      "1/1 [==============================] - 0s 48ms/step - loss: 3.0125 - acc: 0.1176\n",
      "Epoch 9/50\n",
      "1/1 [==============================] - 0s 27ms/step - loss: 3.0075 - acc: 0.1176\n",
      "Epoch 10/50\n",
      "1/1 [==============================] - 0s 26ms/step - loss: 3.0024 - acc: 0.1176\n",
      "Epoch 11/50\n",
      "1/1 [==============================] - 0s 53ms/step - loss: 2.9970 - acc: 0.1176\n",
      "Epoch 12/50\n",
      "1/1 [==============================] - 0s 40ms/step - loss: 2.9915 - acc: 0.1176\n",
      "Epoch 13/50\n",
      "1/1 [==============================] - 0s 37ms/step - loss: 2.9857 - acc: 0.1176\n",
      "Epoch 14/50\n",
      "1/1 [==============================] - 0s 30ms/step - loss: 2.9797 - acc: 0.1176\n",
      "Epoch 15/50\n",
      "1/1 [==============================] - 0s 17ms/step - loss: 2.9735 - acc: 0.1176\n",
      "Epoch 16/50\n",
      "1/1 [==============================] - 0s 30ms/step - loss: 2.9669 - acc: 0.1176\n",
      "Epoch 17/50\n",
      "1/1 [==============================] - 0s 32ms/step - loss: 2.9600 - acc: 0.1176\n",
      "Epoch 18/50\n",
      "1/1 [==============================] - 0s 34ms/step - loss: 2.9528 - acc: 0.1176\n",
      "Epoch 19/50\n",
      "1/1 [==============================] - 0s 26ms/step - loss: 2.9452 - acc: 0.1176\n",
      "Epoch 20/50\n",
      "1/1 [==============================] - 0s 20ms/step - loss: 2.9372 - acc: 0.1176\n",
      "Epoch 21/50\n",
      "1/1 [==============================] - 0s 45ms/step - loss: 2.9288 - acc: 0.1176\n",
      "Epoch 22/50\n",
      "1/1 [==============================] - 0s 44ms/step - loss: 2.9199 - acc: 0.1176\n",
      "Epoch 23/50\n",
      "1/1 [==============================] - 0s 26ms/step - loss: 2.9104 - acc: 0.1176\n",
      "Epoch 24/50\n",
      "1/1 [==============================] - 0s 27ms/step - loss: 2.9005 - acc: 0.1176\n",
      "Epoch 25/50\n",
      "1/1 [==============================] - 0s 22ms/step - loss: 2.8900 - acc: 0.1176\n",
      "Epoch 26/50\n",
      "1/1 [==============================] - 0s 35ms/step - loss: 2.8789 - acc: 0.1176\n",
      "Epoch 27/50\n",
      "1/1 [==============================] - 0s 34ms/step - loss: 2.8672 - acc: 0.1176\n",
      "Epoch 28/50\n",
      "1/1 [==============================] - 0s 53ms/step - loss: 2.8548 - acc: 0.1176\n",
      "Epoch 29/50\n",
      "1/1 [==============================] - 0s 23ms/step - loss: 2.8417 - acc: 0.1176\n",
      "Epoch 30/50\n",
      "1/1 [==============================] - 0s 21ms/step - loss: 2.8280 - acc: 0.1176\n",
      "Epoch 31/50\n",
      "1/1 [==============================] - 0s 41ms/step - loss: 2.8136 - acc: 0.1176\n",
      "Epoch 32/50\n",
      "1/1 [==============================] - 0s 28ms/step - loss: 2.7984 - acc: 0.1176\n",
      "Epoch 33/50\n",
      "1/1 [==============================] - 0s 20ms/step - loss: 2.7826 - acc: 0.1176\n",
      "Epoch 34/50\n",
      "1/1 [==============================] - 0s 21ms/step - loss: 2.7661 - acc: 0.1176\n",
      "Epoch 35/50\n",
      "1/1 [==============================] - 0s 31ms/step - loss: 2.7489 - acc: 0.1176\n",
      "Epoch 36/50\n",
      "1/1 [==============================] - 0s 39ms/step - loss: 2.7311 - acc: 0.1176\n",
      "Epoch 37/50\n",
      "1/1 [==============================] - 0s 33ms/step - loss: 2.7126 - acc: 0.1176\n",
      "Epoch 38/50\n",
      "1/1 [==============================] - 0s 10ms/step - loss: 2.6936 - acc: 0.1176\n",
      "Epoch 39/50\n",
      "1/1 [==============================] - 0s 12ms/step - loss: 2.6740 - acc: 0.1176\n",
      "Epoch 40/50\n",
      "1/1 [==============================] - 0s 33ms/step - loss: 2.6539 - acc: 0.1176\n",
      "Epoch 41/50\n",
      "1/1 [==============================] - 0s 27ms/step - loss: 2.6333 - acc: 0.1176\n",
      "Epoch 42/50\n",
      "1/1 [==============================] - 0s 34ms/step - loss: 2.6121 - acc: 0.1176\n",
      "Epoch 43/50\n",
      "1/1 [==============================] - 0s 28ms/step - loss: 2.5903 - acc: 0.1176\n",
      "Epoch 44/50\n",
      "1/1 [==============================] - 0s 53ms/step - loss: 2.5680 - acc: 0.1176\n",
      "Epoch 45/50\n",
      "1/1 [==============================] - 0s 30ms/step - loss: 2.5450 - acc: 0.1176\n",
      "Epoch 46/50\n",
      "1/1 [==============================] - 0s 23ms/step - loss: 2.5214 - acc: 0.1176\n",
      "Epoch 47/50\n",
      "1/1 [==============================] - 0s 17ms/step - loss: 2.4970 - acc: 0.1765\n",
      "Epoch 48/50\n",
      "1/1 [==============================] - 0s 18ms/step - loss: 2.4719 - acc: 0.2353\n",
      "Epoch 49/50\n",
      "1/1 [==============================] - 0s 19ms/step - loss: 2.4460 - acc: 0.2353\n",
      "Epoch 50/50\n",
      "1/1 [==============================] - 0s 19ms/step - loss: 2.4194 - acc: 0.2941\n"
     ]
    }
   ],
   "source": [
    "model = Sequential()\n",
    "model.add(Embedding(total_words, 64, input_length = max_sequence_len-1))\n",
    "model.add(Bidirectional(LSTM(20)))\n",
    "model.add(Dense(total_words, activation='softmax'))\n",
    "model.compile(loss='categorical_crossentropy', optimizer='adam', metrics=['acc'])\n",
    "history = model.fit(xs,ys,epochs =50, verbose =1)"
   ]
  },
  {
   "cell_type": "code",
   "execution_count": 15,
   "id": "frequent-thesis",
   "metadata": {},
   "outputs": [],
   "source": [
    "import matplotlib.pyplot as plt\n",
    "\n",
    "def plot_graphs(history, string):\n",
    "    plt.plot(history.history[string])\n",
    "    plt.xlabel(\"Epochs\")\n",
    "    plt.ylabel(string)\n",
    "    plt.show()"
   ]
  },
  {
   "cell_type": "code",
   "execution_count": 16,
   "id": "coral-report",
   "metadata": {},
   "outputs": [
    {
     "data": {
      "image/png": "[encoded data removed]",
      "text/plain": [
       "<Figure size 432x288 with 1 Axes>"
      ]
     },
     "metadata": {
      "needs_background": "light"
     },
     "output_type": "display_data"
    }
   ],
   "source": [
    "plot_graphs(history,'acc')"
   ]
  },
  {
   "cell_type": "code",
   "execution_count": null,
   "id": "elder-recall",
   "metadata": {},
   "outputs": [],
   "source": [
    "#Predicting words\n",
    "seed_text = \"Stephany went to dubling\"\n",
    "next_words = 100\n",
    "\n",
    "for _ in range\n",
    "\n"
   ]
  }
 ],
 "metadata": {
  "kernelspec": {
   "display_name": "Python 3",
   "language": "python",
   "name": "python3"
  },
  "language_info": {
   "codemirror_mode": {
    "name": "ipython",
    "version": 3
   },
   "file_extension": ".py",
   "mimetype": "text/x-python",
   "name": "python",
   "nbconvert_exporter": "python",
   "pygments_lexer": "ipython3",
   "version": "3.8.0"
  }
 },
 "nbformat": 4,
 "nbformat_minor": 5
}
