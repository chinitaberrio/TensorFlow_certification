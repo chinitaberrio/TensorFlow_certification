{
 "cells": [
  {
   "cell_type": "code",
   "execution_count": 1,
   "metadata": {
    "colab": {},
    "colab_type": "code",
    "id": "BOwsuGQQY9OL"
   },
   "outputs": [],
   "source": [
    "# ATTENTION: Please do not alter any of the provided code in the exercise. Only add your own code where indicated\n",
    "# ATTENTION: Please do not add or remove any cells in the exercise. The grader will check specific cells based on the cell position.\n",
    "# ATTENTION: Please use the provided epoch values when training.\n",
    "\n",
    "from tensorflow.keras.preprocessing.sequence import pad_sequences\n",
    "from tensorflow.keras.layers import Embedding, LSTM, Dense, Dropout, Bidirectional\n",
    "from tensorflow.keras.preprocessing.text import Tokenizer\n",
    "from tensorflow.keras.models import Sequential\n",
    "from tensorflow.keras.optimizers import Adam\n",
    "from os import getcwd\n",
    "### YOUR CODE HERE\n",
    "from tensorflow.keras import regularizers\n",
    "###\n",
    "import tensorflow.keras.utils as ku \n",
    "import numpy as np "
   ]
  },
  {
   "cell_type": "code",
   "execution_count": 2,
   "metadata": {
    "colab": {},
    "colab_type": "code",
    "id": "PRnDnCW-Z7qv"
   },
   "outputs": [],
   "source": [
    "tokenizer = Tokenizer()\n",
    "path_sonnets = f\"{getcwd()}/../tmp2/sonnets.txt\"\n",
    "data = open(path_sonnets).read()\n",
    "\n",
    "corpus = data.lower().split(\"\\n\")\n",
    "\n",
    "\n",
    "tokenizer.fit_on_texts(corpus)\n",
    "total_words = len(tokenizer.word_index) + 1\n",
    "\n",
    "# create input sequences using list of tokens\n",
    "input_sequences = []\n",
    "for line in corpus:\n",
    "    token_list = tokenizer.texts_to_sequences([line])[0]\n",
    "    for i in range(1, len(token_list)):\n",
    "        n_gram_sequence = token_list[:i+1]\n",
    "        input_sequences.append(n_gram_sequence)\n",
    "\n",
    "\n",
    "# pad sequences \n",
    "max_sequence_len = max([len(x) for x in input_sequences])\n",
    "input_sequences = np.array(pad_sequences(input_sequences, maxlen=max_sequence_len, padding='pre'))\n",
    "\n",
    "# create predictors and label\n",
    "predictors, label = input_sequences[:,:-1],input_sequences[:,-1]\n",
    "\n",
    "label = ku.to_categorical(label, num_classes=total_words)"
   ]
  },
  {
   "cell_type": "code",
   "execution_count": 3,
   "metadata": {
    "colab": {},
    "colab_type": "code",
    "id": "w9vH8Y59ajYL"
   },
   "outputs": [
    {
     "name": "stdout",
     "output_type": "stream",
     "text": [
      "Model: \"sequential\"\n",
      "_________________________________________________________________\n",
      "Layer (type)                 Output Shape              Param #   \n",
      "=================================================================\n",
      "embedding (Embedding)        (None, 10, 100)           321100    \n",
      "_________________________________________________________________\n",
      "bidirectional (Bidirectional (None, 10, 300)           301200    \n",
      "_________________________________________________________________\n",
      "dropout (Dropout)            (None, 10, 300)           0         \n",
      "_________________________________________________________________\n",
      "lstm_1 (LSTM)                (None, 100)               160400    \n",
      "_________________________________________________________________\n",
      "dense (Dense)                (None, 1605)              162105    \n",
      "_________________________________________________________________\n",
      "dense_1 (Dense)              (None, 3211)              5156866   \n",
      "=================================================================\n",
      "Total params: 6,101,671\n",
      "Trainable params: 6,101,671\n",
      "Non-trainable params: 0\n",
      "_________________________________________________________________\n",
      "None\n"
     ]
    }
   ],
   "source": [
    "model = Sequential()\n",
    "model.add(Embedding(total_words, 100, input_length = max_sequence_len-1))\n",
    "model.add(Bidirectional(LSTM(150, return_sequences=True)))\n",
    "model.add(Dropout(0.2))\n",
    "model.add(LSTM(100))\n",
    "model.add(Dense(total_words/2, activation= 'relu', kernel_regularizer=regularizers.l2(0.01)))\n",
    "model.add(Dense(total_words, activation='softmax'))\n",
    "# Pick an optimizer\n",
    "model.compile(loss = 'categorical_crossentropy', optimizer = 'adam', metrics =['accuracy'] )\n",
    "print(model.summary())\n"
   ]
  },
  {
   "cell_type": "code",
   "execution_count": 4,
   "metadata": {
    "colab": {},
    "colab_type": "code",
    "id": "AIg2f1HBxqof"
   },
   "outputs": [
    {
     "name": "stdout",
     "output_type": "stream",
     "text": [
      "Train on 15462 samples\n",
      "Epoch 1/50\n",
      "15462/15462 [==============================] - 23s 2ms/sample - loss: 7.3188 - accuracy: 0.0222\n",
      "Epoch 2/50\n",
      "15462/15462 [==============================] - 10s 647us/sample - loss: 6.5533 - accuracy: 0.0200\n",
      "Epoch 3/50\n",
      "15462/15462 [==============================] - 10s 634us/sample - loss: 6.4648 - accuracy: 0.0222\n",
      "Epoch 4/50\n",
      "15462/15462 [==============================] - 13s 872us/sample - loss: 6.4083 - accuracy: 0.0245\n",
      "Epoch 5/50\n",
      "15462/15462 [==============================] - 28s 2ms/sample - loss: 6.3117 - accuracy: 0.0312\n",
      "Epoch 6/50\n",
      "15462/15462 [==============================] - 19s 1ms/sample - loss: 6.2278 - accuracy: 0.0355\n",
      "Epoch 7/50\n",
      "15462/15462 [==============================] - 15s 1ms/sample - loss: 6.1618 - accuracy: 0.0374\n",
      "Epoch 8/50\n",
      "15462/15462 [==============================] - 13s 814us/sample - loss: 6.1070 - accuracy: 0.0386\n",
      "Epoch 9/50\n",
      "15462/15462 [==============================] - 11s 686us/sample - loss: 6.0520 - accuracy: 0.0398\n",
      "Epoch 10/50\n",
      "15462/15462 [==============================] - 15s 983us/sample - loss: 5.9981 - accuracy: 0.0434\n",
      "Epoch 11/50\n",
      "15462/15462 [==============================] - 12s 782us/sample - loss: 5.9260 - accuracy: 0.0468\n",
      "Epoch 12/50\n",
      "15462/15462 [==============================] - 12s 764us/sample - loss: 5.8639 - accuracy: 0.0499\n",
      "Epoch 13/50\n",
      "15462/15462 [==============================] - 15s 1ms/sample - loss: 5.7836 - accuracy: 0.0539\n",
      "Epoch 14/50\n",
      "15462/15462 [==============================] - 13s 815us/sample - loss: 5.7045 - accuracy: 0.0581\n",
      "Epoch 15/50\n",
      "15462/15462 [==============================] - 13s 841us/sample - loss: 5.6238 - accuracy: 0.0593\n",
      "Epoch 16/50\n",
      "15462/15462 [==============================] - 12s 763us/sample - loss: 5.5445 - accuracy: 0.0643\n",
      "Epoch 17/50\n",
      "15462/15462 [==============================] - 11s 705us/sample - loss: 5.4678 - accuracy: 0.0683\n",
      "Epoch 18/50\n",
      "15462/15462 [==============================] - 10s 635us/sample - loss: 5.3948 - accuracy: 0.0711\n",
      "Epoch 19/50\n",
      "15462/15462 [==============================] - 10s 660us/sample - loss: 5.3122 - accuracy: 0.0744\n",
      "Epoch 20/50\n",
      "15462/15462 [==============================] - 10s 659us/sample - loss: 5.2400 - accuracy: 0.0794\n",
      "Epoch 21/50\n",
      "15462/15462 [==============================] - 13s 846us/sample - loss: 5.1810 - accuracy: 0.0817\n",
      "Epoch 22/50\n",
      "15462/15462 [==============================] - 11s 693us/sample - loss: 5.0950 - accuracy: 0.0858\n",
      "Epoch 23/50\n",
      "15462/15462 [==============================] - 10s 647us/sample - loss: 5.0284 - accuracy: 0.0920\n",
      "Epoch 24/50\n",
      "15462/15462 [==============================] - 10s 673us/sample - loss: 4.9621 - accuracy: 0.0953\n",
      "Epoch 25/50\n",
      "15462/15462 [==============================] - 10s 640us/sample - loss: 4.8913 - accuracy: 0.0986\n",
      "Epoch 26/50\n",
      "15462/15462 [==============================] - 11s 699us/sample - loss: 4.8127 - accuracy: 0.1051\n",
      "Epoch 27/50\n",
      "15462/15462 [==============================] - 11s 737us/sample - loss: 4.7452 - accuracy: 0.1093\n",
      "Epoch 28/50\n",
      "15462/15462 [==============================] - 12s 750us/sample - loss: 4.6688 - accuracy: 0.1180\n",
      "Epoch 29/50\n",
      "15462/15462 [==============================] - 10s 665us/sample - loss: 4.5949 - accuracy: 0.1241\n",
      "Epoch 30/50\n",
      "15462/15462 [==============================] - 12s 783us/sample - loss: 4.5254 - accuracy: 0.1317\n",
      "Epoch 31/50\n",
      "15462/15462 [==============================] - 14s 892us/sample - loss: 4.4533 - accuracy: 0.1377\n",
      "Epoch 32/50\n",
      "15462/15462 [==============================] - 12s 751us/sample - loss: 4.3885 - accuracy: 0.1435\n",
      "Epoch 33/50\n",
      "15462/15462 [==============================] - 10s 634us/sample - loss: 4.3180 - accuracy: 0.1552\n",
      "Epoch 34/50\n",
      "15462/15462 [==============================] - 9s 608us/sample - loss: 4.2471 - accuracy: 0.1645\n",
      "Epoch 35/50\n",
      "15462/15462 [==============================] - 10s 653us/sample - loss: 4.1771 - accuracy: 0.1739\n",
      "Epoch 36/50\n",
      "15462/15462 [==============================] - 10s 672us/sample - loss: 4.1053 - accuracy: 0.1844\n",
      "Epoch 37/50\n",
      "15462/15462 [==============================] - 10s 666us/sample - loss: 4.0459 - accuracy: 0.2002\n",
      "Epoch 38/50\n",
      "15462/15462 [==============================] - 9s 602us/sample - loss: 3.9736 - accuracy: 0.2147\n",
      "Epoch 39/50\n",
      "15462/15462 [==============================] - 9s 596us/sample - loss: 3.9021 - accuracy: 0.2229\n",
      "Epoch 40/50\n",
      "15462/15462 [==============================] - 9s 587us/sample - loss: 3.8440 - accuracy: 0.2363\n",
      "Epoch 41/50\n",
      "15462/15462 [==============================] - 10s 641us/sample - loss: 3.7732 - accuracy: 0.2477\n",
      "Epoch 42/50\n",
      "15462/15462 [==============================] - 11s 686us/sample - loss: 3.7125 - accuracy: 0.2628\n",
      "Epoch 43/50\n",
      "15462/15462 [==============================] - 10s 648us/sample - loss: 3.6461 - accuracy: 0.2784\n",
      "Epoch 44/50\n",
      "15462/15462 [==============================] - 12s 749us/sample - loss: 3.5841 - accuracy: 0.2920\n",
      "Epoch 45/50\n",
      "15462/15462 [==============================] - 10s 647us/sample - loss: 3.5275 - accuracy: 0.3049\n",
      "Epoch 46/50\n",
      "15462/15462 [==============================] - 10s 647us/sample - loss: 3.4724 - accuracy: 0.3123\n",
      "Epoch 47/50\n",
      "15462/15462 [==============================] - 11s 685us/sample - loss: 3.4027 - accuracy: 0.3289\n",
      "Epoch 48/50\n",
      "15462/15462 [==============================] - 11s 718us/sample - loss: 3.3479 - accuracy: 0.3393\n",
      "Epoch 49/50\n",
      "15462/15462 [==============================] - 11s 711us/sample - loss: 3.2976 - accuracy: 0.3507\n",
      "Epoch 50/50\n",
      "15462/15462 [==============================] - 11s 698us/sample - loss: 3.2420 - accuracy: 0.3642\n"
     ]
    }
   ],
   "source": [
    " history = model.fit(predictors, label, epochs=50, batch_size=128, verbose=1)"
   ]
  },
  {
   "cell_type": "code",
   "execution_count": 5,
   "metadata": {
    "colab": {},
    "colab_type": "code",
    "id": "1fXTEO3GJ282"
   },
   "outputs": [
    {
     "data": {
      "image/png": "[encoded data removed]",
      "text/plain": [
       "<Figure size 432x288 with 1 Axes>"
      ]
     },
     "metadata": {
      "needs_background": "light"
     },
     "output_type": "display_data"
    },
    {
     "data": {
      "image/png": "[encoded data removed]",
      "text/plain": [
       "<Figure size 432x288 with 1 Axes>"
      ]
     },
     "metadata": {
      "needs_background": "light"
     },
     "output_type": "display_data"
    }
   ],
   "source": [
    "%matplotlib inline\n",
    "import matplotlib.pyplot as plt\n",
    "acc = history.history['accuracy']\n",
    "loss = history.history['loss']\n",
    "\n",
    "epochs = range(len(acc))\n",
    "\n",
    "plt.plot(epochs, acc, 'b', label='Training accuracy')\n",
    "plt.title('Training accuracy')\n",
    "\n",
    "plt.figure()\n",
    "\n",
    "plt.plot(epochs, loss, 'b', label='Training Loss')\n",
    "plt.title('Training loss')\n",
    "plt.legend()\n",
    "\n",
    "plt.show()"
   ]
  },
  {
   "cell_type": "code",
   "execution_count": 6,
   "metadata": {
    "colab": {},
    "colab_type": "code",
    "id": "6Vc6PHgxa6Hm"
   },
   "outputs": [
    {
     "name": "stdout",
     "output_type": "stream",
     "text": [
      "Help me Obi Wan Kenobi, you're my only hope in thy side youth heaven live young skill ' away go ' in love's moan thy state away you say wanting thee foes wrong foes place doubt me blind woe lie away go ' to see me true true old deeds doth see me needing old blind lie me wanting all me is thine is fair true old skill ' behold it say it say me true bright shall see me ' to see me ' away convertest say me ' it say to me alone so dear deeds to me belong green trust die die say write so doubt\n"
     ]
    }
   ],
   "source": [
    "seed_text = \"Help me Obi Wan Kenobi, you're my only hope\"\n",
    "next_words = 100\n",
    "  \n",
    "for _ in range(next_words):\n",
    "    token_list = tokenizer.texts_to_sequences([seed_text])[0]\n",
    "    token_list = pad_sequences([token_list], maxlen=max_sequence_len-1, padding='pre')\n",
    "    predicted = model.predict_classes(token_list, verbose=0)\n",
    "    output_word = \"\"\n",
    "    for word, index in tokenizer.word_index.items():\n",
    "        if index == predicted:\n",
    "            output_word = word\n",
    "            break\n",
    "    seed_text += \" \" + output_word\n",
    "print(seed_text)"
   ]
  },
  {
   "cell_type": "code",
   "execution_count": null,
   "metadata": {},
   "outputs": [],
   "source": [
    "# Now click the 'Submit Assignment' button above.\n",
    "# Once that is complete, please run the following two cells to save your work and close the notebook"
   ]
  },
  {
   "cell_type": "code",
   "execution_count": 7,
   "metadata": {},
   "outputs": [
    {
     "data": {
      "application/javascript": [
       "<!-- Save the notebook -->\n",
       "IPython.notebook.save_checkpoint();\n"
      ],
      "text/plain": [
       "<IPython.core.display.Javascript object>"
      ]
     },
     "metadata": {},
     "output_type": "display_data"
    }
   ],
   "source": [
    "%%javascript\n",
    "<!-- Save the notebook -->\n",
    "IPython.notebook.save_checkpoint();"
   ]
  },
  {
   "cell_type": "code",
   "execution_count": null,
   "metadata": {},
   "outputs": [
    {
     "data": {
      "application/javascript": [
       "IPython.notebook.session.delete();\n",
       "window.onbeforeunload = null\n",
       "setTimeout(function() { window.close(); }, 1000);\n"
      ],
      "text/plain": [
       "<IPython.core.display.Javascript object>"
      ]
     },
     "metadata": {},
     "output_type": "display_data"
    }
   ],
   "source": [
    "%%javascript\n",
    "IPython.notebook.session.delete();\n",
    "window.onbeforeunload = null\n",
    "setTimeout(function() { window.close(); }, 1000);"
   ]
  },
  {
   "cell_type": "code",
   "execution_count": null,
   "metadata": {},
   "outputs": [],
   "source": []
  }
 ],
 "metadata": {
  "accelerator": "GPU",
  "colab": {
   "name": "NLP-Week4-Exercise-Shakespeare-Question.ipynb",
   "provenance": []
  },
  "coursera": {
   "course_slug": "natural-language-processing-tensorflow",
   "graded_item_id": "zLi5k",
   "launcher_item_id": "qRKzU"
  },
  "kernelspec": {
   "display_name": "Python 3",
   "language": "python",
   "name": "python3"
  },
  "language_info": {
   "codemirror_mode": {
    "name": "ipython",
    "version": 3
   },
   "file_extension": ".py",
   "mimetype": "text/x-python",
   "name": "python",
   "nbconvert_exporter": "python",
   "pygments_lexer": "ipython3",
   "version": "3.6.8"
  }
 },
 "nbformat": 4,
 "nbformat_minor": 1
}
