{
 "cells": [
  {
   "cell_type": "code",
   "execution_count": null,
   "id": "rubber-relationship",
   "metadata": {},
   "outputs": [],
   "source": [
    "\n",
    "\n",
    "train_datagen = ImageDataGenerator(rescale = 1./255, #rescale\n",
    "                                   rotation_range = 40, #rotation 0 - 180\n",
    "                                   width_shift_range = 0.2, # moving around \n",
    "                                   height_shift_range = 0.2, #proportion of the image size 20 %\n",
    "                                   shear_range = 0.2, # skewing randomly till 20%\n",
    "                                   zoom_range = 0.2, # % image\n",
    "                                   horizontal_flip = True,\n",
    "                                   fill_mode = 'nearest'\n",
    "                                  )\n",
    "                                   "
   ]
  }
 ],
 "metadata": {
  "kernelspec": {
   "display_name": "Python 3",
   "language": "python",
   "name": "python3"
  },
  "language_info": {
   "codemirror_mode": {
    "name": "ipython",
    "version": 3
   },
   "file_extension": ".py",
   "mimetype": "text/x-python",
   "name": "python",
   "nbconvert_exporter": "python",
   "pygments_lexer": "ipython3",
   "version": "3.8.0"
  }
 },
 "nbformat": 4,
 "nbformat_minor": 5
}
