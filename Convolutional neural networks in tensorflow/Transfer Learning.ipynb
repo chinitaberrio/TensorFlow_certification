{
 "cells": [
  {
   "cell_type": "code",
   "execution_count": 1,
   "id": "realistic-coverage",
   "metadata": {},
   "outputs": [
    {
     "name": "stdout",
     "output_type": "stream",
     "text": [
      "--2021-03-09 16:56:08--  https://storage.googleapis.com/mledu-datasets/inception_v3_weights_tf_dim_ordering_tf_kernels_notop.h5\n",
      "Resolving storage.googleapis.com (storage.googleapis.com)... 142.250.66.240, 142.250.67.16, 142.250.66.208, ...\n",
      "Connecting to storage.googleapis.com (storage.googleapis.com)|142.250.66.240|:443... connected.\n",
      "HTTP request sent, awaiting response... 200 OK\n",
      "Length: 87910968 (84M) [application/x-hdf]\n",
      "Saving to: '/tmp/inception_v3_weights_tf_dim_ordering_tf_kernels_notop.h5’\n",
      "\n",
      "/tmp/inception_v3_w 100%[===================>]  83.84M  12.9MB/s    in 6.5s    \n",
      "\n",
      "2021-03-09 16:56:16 (12.9 MB/s) - '/tmp/inception_v3_weights_tf_dim_ordering_tf_kernels_notop.h5’ saved [87910968/87910968]\n",
      "\n",
      "last layer output shape:  (None, 7, 7, 768)\n"
     ]
    }
   ],
   "source": [
    "import os\n",
    "\n",
    "from tensorflow.keras import layers\n",
    "from tensorflow.keras import Model\n",
    "\n",
    "#Getting the model and the weights of a CNN \n",
    "\n",
    "!wget --no-check-certificate \\\n",
    "    https://storage.googleapis.com/mledu-datasets/inception_v3_weights_tf_dim_ordering_tf_kernels_notop.h5 \\\n",
    "    -O /tmp/inception_v3_weights_tf_dim_ordering_tf_kernels_notop.h5\n",
    "\n",
    "from tensorflow.keras.applications.inception_v3 import InceptionV3\n",
    "\n",
    "local_weights_file = '/tmp/inception_v3_weights_tf_dim_ordering_tf_kernels_notop.h5'\n",
    "\n",
    "pre_trained_model = InceptionV3(input_shape = (150, 150, 3), #Input chape of my data\n",
    "                                include_top = False, #Ignore the fully connected layer at the top / Only convolutions\n",
    "                                weights = None) #No weigths\n",
    "\n",
    "pre_trained_model.load_weights(local_weights_file)\n",
    "\n",
    "for layer in pre_trained_model.layers:\n",
    "    layer.trainable = False\n",
    "    \n",
    "last_layer = pre_trained_model.get_layer('mixed7')\n",
    "print('last layer output shape: ', last_layer.output_shape)\n",
    "last_output = last_layer.output #get this output with a lot of features"
   ]
  },
  {
   "cell_type": "code",
   "execution_count": 2,
   "id": "inside-roots",
   "metadata": {},
   "outputs": [],
   "source": [
    "from tensorflow.keras.optimizers import RMSprop\n",
    "\n",
    "# Flatten the output layer to 1 dimension\n",
    "x = layers.Flatten()(last_output)\n",
    "# Add a fully connected layer with 1,024 hidden units and ReLU activation\n",
    "x = layers.Dense(1024, activation='relu')(x)\n",
    "# Add a dropout rate of 0.2\n",
    "x = layers.Dropout(0.2)(x) #Dropout for generalization                  \n",
    "# Add a final sigmoid layer for classification\n",
    "x = layers.Dense  (1, activation='sigmoid')(x)           \n",
    "\n",
    "model = Model( pre_trained_model.input, x) # Input to the pretrained model plus the new layers definition\n",
    "\n",
    "model.compile(optimizer = RMSprop(lr=0.0001), \n",
    "              loss = 'binary_crossentropy', \n",
    "              metrics = ['accuracy'])"
   ]
  },
  {
   "cell_type": "code",
   "execution_count": 3,
   "id": "unique-growing",
   "metadata": {},
   "outputs": [
    {
     "name": "stdout",
     "output_type": "stream",
     "text": [
      "--2021-03-09 17:04:21--  https://storage.googleapis.com/mledu-datasets/cats_and_dogs_filtered.zip\n",
      "Resolving storage.googleapis.com (storage.googleapis.com)... 142.250.71.80, 216.58.199.80, 216.58.200.112, ...\n",
      "Connecting to storage.googleapis.com (storage.googleapis.com)|142.250.71.80|:443... connected.\n",
      "HTTP request sent, awaiting response... 200 OK\n",
      "Length: 68606236 (65M) [application/zip]\n",
      "Saving to: '/tmp/cats_and_dogs_filtered.zip’\n",
      "\n",
      "/tmp/cats_and_dogs_ 100%[===================>]  65.43M  60.7MB/s    in 1.1s    \n",
      "\n",
      "2021-03-09 17:04:22 (60.7 MB/s) - '/tmp/cats_and_dogs_filtered.zip’ saved [68606236/68606236]\n",
      "\n",
      "Found 2000 images belonging to 2 classes.\n",
      "Found 1000 images belonging to 2 classes.\n"
     ]
    }
   ],
   "source": [
    "# Cats vs Dogs \n",
    "\n",
    "!wget --no-check-certificate \\\n",
    "        https://storage.googleapis.com/mledu-datasets/cats_and_dogs_filtered.zip \\\n",
    "       -O /tmp/cats_and_dogs_filtered.zip\n",
    "\n",
    "from tensorflow.keras.preprocessing.image import ImageDataGenerator\n",
    "\n",
    "import os\n",
    "import zipfile\n",
    "\n",
    "local_zip = '//tmp/cats_and_dogs_filtered.zip'\n",
    "\n",
    "zip_ref = zipfile.ZipFile(local_zip, 'r')\n",
    "\n",
    "zip_ref.extractall('/tmp')\n",
    "zip_ref.close()\n",
    "\n",
    "# Define our example directories and files\n",
    "base_dir = '/tmp/cats_and_dogs_filtered'\n",
    "\n",
    "train_dir = os.path.join( base_dir, 'train')\n",
    "validation_dir = os.path.join( base_dir, 'validation')\n",
    "\n",
    "\n",
    "train_cats_dir = os.path.join(train_dir, 'cats') # Directory with our training cat pictures\n",
    "train_dogs_dir = os.path.join(train_dir, 'dogs') # Directory with our training dog pictures\n",
    "validation_cats_dir = os.path.join(validation_dir, 'cats') # Directory with our validation cat pictures\n",
    "validation_dogs_dir = os.path.join(validation_dir, 'dogs')# Directory with our validation dog pictures\n",
    "\n",
    "train_cat_fnames = os.listdir(train_cats_dir)\n",
    "train_dog_fnames = os.listdir(train_dogs_dir)\n",
    "\n",
    "# Add our data-augmentation parameters to ImageDataGenerator\n",
    "train_datagen = ImageDataGenerator(rescale = 1./255.,\n",
    "                                   rotation_range = 40,\n",
    "                                   width_shift_range = 0.2,\n",
    "                                   height_shift_range = 0.2,\n",
    "                                   shear_range = 0.2,\n",
    "                                   zoom_range = 0.2,\n",
    "                                   horizontal_flip = True)\n",
    "\n",
    "# Note that the validation data should not be augmented!\n",
    "test_datagen = ImageDataGenerator( rescale = 1.0/255. )\n",
    "\n",
    "# Flow training images in batches of 20 using train_datagen generator\n",
    "train_generator = train_datagen.flow_from_directory(train_dir,\n",
    "                                                    batch_size = 20,\n",
    "                                                    class_mode = 'binary', \n",
    "                                                    target_size = (150, 150))     \n",
    "\n",
    "# Flow validation images in batches of 20 using test_datagen generator\n",
    "validation_generator =  test_datagen.flow_from_directory( validation_dir,\n",
    "                                                          batch_size  = 20,\n",
    "                                                          class_mode  = 'binary', \n",
    "                                                          target_size = (150, 150))"
   ]
  },
  {
   "cell_type": "code",
   "execution_count": 4,
   "id": "nasty-crest",
   "metadata": {},
   "outputs": [
    {
     "name": "stdout",
     "output_type": "stream",
     "text": [
      "Epoch 1/20\n",
      "10/10 - 33s - loss: 0.8847 - accuracy: 0.7000 - val_loss: 0.2049 - val_accuracy: 0.9140\n",
      "Epoch 2/20\n",
      "10/10 - 21s - loss: 0.3309 - accuracy: 0.8400 - val_loss: 0.1806 - val_accuracy: 0.9240\n",
      "Epoch 3/20\n",
      "10/10 - 24s - loss: 0.2525 - accuracy: 0.9200 - val_loss: 0.1642 - val_accuracy: 0.9310\n",
      "Epoch 4/20\n",
      "10/10 - 28s - loss: 0.3537 - accuracy: 0.8550 - val_loss: 0.1823 - val_accuracy: 0.9230\n",
      "Epoch 5/20\n",
      "10/10 - 31s - loss: 0.2254 - accuracy: 0.9000 - val_loss: 0.2324 - val_accuracy: 0.9110\n",
      "Epoch 6/20\n",
      "10/10 - 33s - loss: 0.1871 - accuracy: 0.9250 - val_loss: 0.1089 - val_accuracy: 0.9470\n",
      "Epoch 7/20\n",
      "10/10 - 35s - loss: 0.1779 - accuracy: 0.9350 - val_loss: 0.1752 - val_accuracy: 0.9270\n",
      "Epoch 8/20\n",
      "10/10 - 31s - loss: 0.2313 - accuracy: 0.9100 - val_loss: 0.1216 - val_accuracy: 0.9530\n",
      "Epoch 9/20\n",
      "10/10 - 25s - loss: 0.3814 - accuracy: 0.8650 - val_loss: 0.1495 - val_accuracy: 0.9460\n",
      "Epoch 10/20\n",
      "10/10 - 15s - loss: 0.1971 - accuracy: 0.9200 - val_loss: 0.1514 - val_accuracy: 0.9440\n",
      "Epoch 11/20\n",
      "10/10 - 15s - loss: 0.1180 - accuracy: 0.9600 - val_loss: 0.1525 - val_accuracy: 0.9410\n",
      "Epoch 12/20\n",
      "10/10 - 16s - loss: 0.2212 - accuracy: 0.9250 - val_loss: 0.1076 - val_accuracy: 0.9600\n",
      "Epoch 13/20\n",
      "10/10 - 15s - loss: 0.1554 - accuracy: 0.9100 - val_loss: 0.1547 - val_accuracy: 0.9440\n",
      "Epoch 14/20\n",
      "10/10 - 15s - loss: 0.0904 - accuracy: 0.9650 - val_loss: 0.1264 - val_accuracy: 0.9550\n",
      "Epoch 15/20\n",
      "10/10 - 25s - loss: 0.1550 - accuracy: 0.9450 - val_loss: 0.1257 - val_accuracy: 0.9560\n",
      "Epoch 16/20\n",
      "10/10 - 24s - loss: 0.2695 - accuracy: 0.9100 - val_loss: 0.1138 - val_accuracy: 0.9600\n",
      "Epoch 17/20\n",
      "10/10 - 32s - loss: 0.1652 - accuracy: 0.9050 - val_loss: 0.3033 - val_accuracy: 0.9030\n",
      "Epoch 18/20\n",
      "10/10 - 16s - loss: 0.2534 - accuracy: 0.9000 - val_loss: 0.2012 - val_accuracy: 0.9350\n",
      "Epoch 19/20\n",
      "10/10 - 16s - loss: 0.1474 - accuracy: 0.9400 - val_loss: 0.1343 - val_accuracy: 0.9540\n",
      "Epoch 20/20\n",
      "10/10 - 16s - loss: 0.1859 - accuracy: 0.9250 - val_loss: 0.0914 - val_accuracy: 0.9670\n"
     ]
    }
   ],
   "source": [
    "history = model.fit(\n",
    "            train_generator,\n",
    "            validation_data = validation_generator,\n",
    "            steps_per_epoch = 100,\n",
    "            epochs = 20,\n",
    "            validation_steps = 50,\n",
    "            verbose = 2)"
   ]
  },
  {
   "cell_type": "code",
   "execution_count": 5,
   "id": "metric-length",
   "metadata": {},
   "outputs": [
    {
     "data": {
      "image/png": "[encoded data removed]",
      "text/plain": [
       "<Figure size 432x288 with 1 Axes>"
      ]
     },
     "metadata": {
      "needs_background": "light"
     },
     "output_type": "display_data"
    },
    {
     "data": {
      "text/plain": [
       "<Figure size 432x288 with 0 Axes>"
      ]
     },
     "metadata": {},
     "output_type": "display_data"
    }
   ],
   "source": [
    "import matplotlib.pyplot as plt\n",
    "acc = history.history['accuracy']\n",
    "val_acc = history.history['val_accuracy']\n",
    "loss = history.history['loss']\n",
    "val_loss = history.history['val_loss']\n",
    "\n",
    "epochs = range(len(acc))\n",
    "\n",
    "plt.plot(epochs, acc, 'r', label='Training accuracy')\n",
    "plt.plot(epochs, val_acc, 'b', label='Validation accuracy')\n",
    "plt.title('Training and validation accuracy')\n",
    "plt.legend(loc=0)\n",
    "plt.figure()\n",
    "\n",
    "\n",
    "plt.show()"
   ]
  },
  {
   "cell_type": "code",
   "execution_count": null,
   "id": "finnish-process",
   "metadata": {},
   "outputs": [],
   "source": []
  }
 ],
 "metadata": {
  "kernelspec": {
   "display_name": "Python 3",
   "language": "python",
   "name": "python3"
  },
  "language_info": {
   "codemirror_mode": {
    "name": "ipython",
    "version": 3
   },
   "file_extension": ".py",
   "mimetype": "text/x-python",
   "name": "python",
   "nbconvert_exporter": "python",
   "pygments_lexer": "ipython3",
   "version": "3.8.0"
  }
 },
 "nbformat": 4,
 "nbformat_minor": 5
}
