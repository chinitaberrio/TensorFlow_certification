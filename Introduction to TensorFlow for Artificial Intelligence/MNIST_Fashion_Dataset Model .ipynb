{
 "cells": [
  {
   "cell_type": "code",
   "execution_count": 3,
   "id": "graphic-coffee",
   "metadata": {},
   "outputs": [
    {
     "name": "stdout",
     "output_type": "stream",
     "text": [
      "9\n",
      "[[  0   0   0   0   0   0   0   0   0   0   0   0   0   0   0   0   0   0\n",
      "    0   0   0   0   0   0   0   0   0   0]\n",
      " [  0   0   0   0   0   0   0   0   0   0   0   0   0   0   0   0   0   0\n",
      "    0   0   0   0   0   0   0   0   0   0]\n",
      " [  0   0   0   0   0   0   0   0   0   0   0   0   0   0   0   0   0   0\n",
      "    0   0   0   0   0   0   0   0   0   0]\n",
      " [  0   0   0   0   0   0   0   0   0   0   0   0   0   0   0   0   0   0\n",
      "    0   0   0   0   0   0   0   0   0   0]\n",
      " [  0   0   0   0   0   0   0   0   0   0   0   0   0   0   0   0   0   0\n",
      "    0   0   0   0   0   0   0   0   0   0]\n",
      " [  0   0   0   0   0   0   0   0   0   0   0   0   0   0   0   0  82 187\n",
      "   26   0   0   0   0   0   0   0   0   0]\n",
      " [  0   0   0   0   0   0   0   0   0   1   0   0   1   0   0 179 240 237\n",
      "  255 240 139  83  64  43  60  54   0   1]\n",
      " [  0   0   0   0   0   0   0   0   0   1   0   0   1   0  58 239 222 234\n",
      "  238 246 252 254 255 248 255 187   0   0]\n",
      " [  0   0   0   0   0   0   0   0   0   0   2   3   0   0 194 239 226 237\n",
      "  235 232 230 234 234 233 249 171   0   0]\n",
      " [  0   0   0   0   0   0   0   0   0   1   1   0   0  10 255 226 242 239\n",
      "  238 239 240 239 242 238 248 192   0   0]\n",
      " [  0   0   0   0   0   0   0   0   0   0   0   0   0 172 245 229 240 241\n",
      "  240 241 243 243 241 227 250 209   0   0]\n",
      " [  0   0   0   0   0   0   0   0   0   6   5   0  62 255 230 236 239 241\n",
      "  242 241 242 242 238 238 242 253   0   0]\n",
      " [  0   0   0   0   0   0   0   0   0   3   0   0 255 235 228 244 241 241\n",
      "  244 243 243 244 243 239 235 255  22   0]\n",
      " [  0   0   0   0   0   0   0   0   0   0   0 246 228 220 245 243 237 241\n",
      "  242 242 242 243 239 237 235 253 106   0]\n",
      " [  0   0   3   4   4   2   1   0   0  18 243 228 231 241 243 237 238 242\n",
      "  241 240 240 240 235 237 236 246 234   0]\n",
      " [  1   0   0   0   0   0   0   0  22 255 238 227 238 239 237 241 241 237\n",
      "  236 238 239 239 239 239 239 237 255   0]\n",
      " [  0   0   0   0   0  25  83 168 255 225 225 235 228 230 227 225 227 231\n",
      "  232 237 240 236 238 239 239 235 251  62]\n",
      " [  0 165 225 220 224 255 255 233 229 223 227 228 231 232 235 237 233 230\n",
      "  228 230 233 232 235 233 234 235 255  58]\n",
      " [ 52 251 221 226 227 225 225 225 226 226 225 227 231 229 232 239 245 250\n",
      "  251 252 254 254 252 254 252 235 255   0]\n",
      " [ 31 208 230 233 233 237 236 236 241 235 241 247 251 254 242 236 233 227\n",
      "  219 202 193 189 186 181 171 165 190  42]\n",
      " [ 77 199 172 188 199 202 218 219 220 229 234 222 213 209 207 210 203 184\n",
      "  152 171 165 162 162 167 168 157 192  78]\n",
      " [  0  45 101 140 159 174 182 186 185 188 195 197 188 175 133  70  19   0\n",
      "    0 209 231 218 222 224 227 217 229  93]\n",
      " [  0   0   0   0   0   0   2  24  37  45  32  18  11   0   0   0   0   0\n",
      "    0  72  51  53  37  34  29  31   5   0]\n",
      " [  0   0   0   0   0   0   0   0   0   0   0   0   0   0   0   0   0   0\n",
      "    0   0   0   0   0   0   0   0   0   0]\n",
      " [  0   0   0   0   0   0   0   0   0   0   0   0   0   0   0   0   0   0\n",
      "    0   0   0   0   0   0   0   0   0   0]\n",
      " [  0   0   0   0   0   0   0   0   0   0   0   0   0   0   0   0   0   0\n",
      "    0   0   0   0   0   0   0   0   0   0]\n",
      " [  0   0   0   0   0   0   0   0   0   0   0   0   0   0   0   0   0   0\n",
      "    0   0   0   0   0   0   0   0   0   0]\n",
      " [  0   0   0   0   0   0   0   0   0   0   0   0   0   0   0   0   0   0\n",
      "    0   0   0   0   0   0   0   0   0   0]]\n"
     ]
    },
    {
     "data": {
      "image/png": "[encoded data removed]",
      "text/plain": [
       "<Figure size 432x288 with 1 Axes>"
      ]
     },
     "metadata": {
      "needs_background": "light"
     },
     "output_type": "display_data"
    }
   ],
   "source": [
    "#Importing libraries\n",
    "import tensorflow as tf\n",
    "from tensorflow import keras\n",
    "import matplotlib.pyplot as plt\n",
    "\n",
    "#Loading the dataset \n",
    "mnist = tf.keras.datasets.fashion_mnist\n",
    "(train_images, train_labels), (test_images, test_labels) = mnist.load_data()\n",
    "\n",
    "#Plotting the images\n",
    "plt.imshow(train_images[42])\n",
    "print(train_labels[42])\n",
    "\n",
    "print(train_images[42])"
   ]
  },
  {
   "cell_type": "code",
   "execution_count": 4,
   "id": "introductory-literacy",
   "metadata": {},
   "outputs": [
    {
     "name": "stdout",
     "output_type": "stream",
     "text": [
      "Epoch 1/15\n",
      "1875/1875 [==============================] - 4s 2ms/step - loss: 0.6202 - accuracy: 0.7850\n",
      "Epoch 2/15\n",
      "1875/1875 [==============================] - 4s 2ms/step - loss: 0.3799 - accuracy: 0.8639\n",
      "\n",
      "Reached 60% accuracy so cancelling training!\n",
      "prediction [[7.3108372e-06 8.2841962e-07 1.0804079e-05 4.0599302e-06 6.7958495e-06\n",
      "  2.1316905e-02 1.9729776e-05 2.8396327e-02 4.1758438e-04 9.4981968e-01]]\n",
      "label 9\n",
      "313/313 [==============================] - 0s 933us/step - loss: 0.3975 - accuracy: 0.8603\n",
      "evaluation [0.3975386321544647, 0.8603000044822693]\n"
     ]
    },
    {
     "data": {
      "image/png": "[encoded data removed]",
      "text/plain": [
       "<Figure size 432x288 with 1 Axes>"
      ]
     },
     "metadata": {
      "needs_background": "light"
     },
     "output_type": "display_data"
    }
   ],
   "source": [
    "import numpy as np\n",
    "\n",
    "#Callback function for stopping the training \n",
    "class myCallback(tf.keras.callbacks.Callback):\n",
    "    def on_epoch_end(self, epoch, logs={}):\n",
    "        if(logs.get('loss')<0.4):\n",
    "            print(\"\\nReached 60% accuracy so cancelling training!\")\n",
    "            self.model.stop_training = True\n",
    "\n",
    "#Normalization\n",
    "train_images  = train_images / 255.0\n",
    "test_images = test_images / 255.0\n",
    "\n",
    "callbacks = myCallback()\n",
    "\n",
    "#Model\n",
    "#Input image size 28 x 28, 10 classes of clothing in the dataset\n",
    "model = keras.Sequential([\n",
    "    keras.layers.Flatten(),\n",
    "    keras.layers.Dense(128, activation = tf.nn.relu),\n",
    "    keras.layers.Dense(10, activation = tf.nn.softmax)\n",
    "])\n",
    "\n",
    "model.compile(optimizer = 'adam',\n",
    "             loss = 'sparse_categorical_crossentropy',\n",
    "             metrics = ['accuracy'])\n",
    "\n",
    "\n",
    "#fit the model\n",
    "model.fit(train_images, train_labels, epochs=15, callbacks=[callbacks])\n",
    "\n",
    "#print a prediction \n",
    "print('prediction', model.predict(np.expand_dims(test_images[0], axis=0)))\n",
    "\n",
    "#showing the image\n",
    "plt.imshow(test_images[0])\n",
    "print('label', test_labels[0])\n",
    "\n",
    "#Evaluating the model\n",
    "print('evaluation', model.evaluate(test_images, test_labels))\n"
   ]
  },
  {
   "cell_type": "code",
   "execution_count": null,
   "id": "premier-camping",
   "metadata": {},
   "outputs": [],
   "source": []
  }
 ],
 "metadata": {
  "kernelspec": {
   "display_name": "Python 3",
   "language": "python",
   "name": "python3"
  },
  "language_info": {
   "codemirror_mode": {
    "name": "ipython",
    "version": 3
   },
   "file_extension": ".py",
   "mimetype": "text/x-python",
   "name": "python",
   "nbconvert_exporter": "python",
   "pygments_lexer": "ipython3",
   "version": "3.8.0"
  }
 },
 "nbformat": 4,
 "nbformat_minor": 5
}
